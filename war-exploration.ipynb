{
 "nbformat": 4,
 "nbformat_minor": 2,
 "metadata": {
  "language_info": {
   "name": "python",
   "codemirror_mode": {
    "name": "ipython",
    "version": 3
   },
   "version": "3.7.5-final"
  },
  "orig_nbformat": 2,
  "file_extension": ".py",
  "mimetype": "text/x-python",
  "name": "python",
  "npconvert_exporter": "python",
  "pygments_lexer": "ipython3",
  "version": 3,
  "kernelspec": {
   "name": "python37564bitclashgraphconda5ffe20b3065c42dd832bdb58b735cba3",
   "display_name": "Python 3.7.5 64-bit ('clash-graph': conda)"
  }
 },
 "cells": [
  {
   "cell_type": "code",
   "execution_count": null,
   "metadata": {},
   "outputs": [],
   "source": [
    "import pandas as pd\n",
    "from py2neo import Graph\n",
    "import matplotlib\n",
    "from sklearn.preprocessing import StandardScaler\n",
    "from sklearn.model_selection import train_test_split\n",
    "from sklearn import svm\n",
    "from sklearn import metrics\n"
   ]
  },
  {
   "cell_type": "code",
   "execution_count": null,
   "metadata": {},
   "outputs": [],
   "source": [
    "graph = Graph(host=\"localhost\", auth=(\"neo4j\", \"test123\"))"
   ]
  },
  {
   "cell_type": "code",
   "execution_count": null,
   "metadata": {},
   "outputs": [],
   "source": [
    "query = \"MATCH (clan:Clan)--(standing:War_Standing)-[r]-(war:War) MATCH (participant:War_Participant)--(standing) RETURN war.war_end_time as Time,clan.name as Clan, sum(participant.cards_earned) as cards, standing.participants as Participants, standing.wins as Wins, standing.battles_played as Played, r.standing as Result\"\n",
    "\n",
    "war_results = graph.run(query).to_data_frame()\n",
    "war_results[\"average_cards\"] = war_results[\"cards\"] / war_results[\"Participants\"]\n",
    "war_results.set_index(\"Clan\")\n",
    "\n",
    "war_results.shape"
   ]
  },
  {
   "cell_type": "code",
   "execution_count": null,
   "metadata": {},
   "outputs": [],
   "source": [
    "matplotlib.pyplot.scatter(war_results[\"average_cards\"], war_results[\"Result\"], )"
   ]
  },
  {
   "cell_type": "code",
   "execution_count": null,
   "metadata": {},
   "outputs": [],
   "source": [
    "x_columns = [\n",
    "    \"cards\",\n",
    "    \"Participants\"\n",
    "]\n",
    "\n",
    "y_column = [\"Result\"]\n",
    "\n",
    "X_data = war_results[x_columns]\n",
    "y_data = war_results[y_column]"
   ]
  },
  {
   "cell_type": "code",
   "execution_count": null,
   "metadata": {},
   "outputs": [],
   "source": [
    "X_train, X_test, y_train, y_test = train_test_split(X_data, y_data, test_size=0.33, random_state=42)"
   ]
  },
  {
   "cell_type": "code",
   "execution_count": null,
   "metadata": {},
   "outputs": [],
   "source": [
    "X_scaler = StandardScaler().fit(X_train)\n",
    "y_scaler = StandardScaler().fit(y_train)"
   ]
  },
  {
   "cell_type": "code",
   "execution_count": null,
   "metadata": {},
   "outputs": [],
   "source": [
    "def scale_data(df, scaler):\n",
    "    return pd.DataFrame(scaler.transform(df), columns = df.columns)\n",
    "\n",
    "X_train_scaled = scale_data(X_train, X_scaler)\n",
    "y_train_scaled = scale_data(y_train, y_scaler)\n",
    "X_test_scaled = scale_data(X_test, X_scaler)\n",
    "y_test_scaled = scale_data(y_test, y_scaler)"
   ]
  },
  {
   "cell_type": "code",
   "execution_count": null,
   "metadata": {},
   "outputs": [],
   "source": [
    "matplotlib.pyplot.scatter(X_train_scaled[\"cards\"] / X_train_scaled[\"Participants\"], y_train_scaled[\"Result\"])"
   ]
  },
  {
   "cell_type": "code",
   "execution_count": null,
   "metadata": {},
   "outputs": [],
   "source": [
    "X_train_scaled.head()"
   ]
  },
  {
   "cell_type": "code",
   "execution_count": null,
   "metadata": {},
   "outputs": [],
   "source": [
    "clf = svm.SVR()\n",
    "clf.fit(X_train_scaled, y_train)"
   ]
  },
  {
   "cell_type": "code",
   "execution_count": null,
   "metadata": {},
   "outputs": [],
   "source": [
    "y_train_prediction = clf.predict(X_train_scaled)\n",
    "y_test_prediction = clf.predict(X_test_scaled)\n",
    "\n",
    "mse_train = metrics.mean_squared_error(y_train, y_train_prediction)\n",
    "mse_test = metrics.mean_squared_error(y_test, y_test_prediction)\n",
    "\n",
    "print(mse_train)\n",
    "print(mse_test)\n",
    "\n"
   ]
  },
  {
   "cell_type": "code",
   "execution_count": null,
   "metadata": {},
   "outputs": [],
   "source": [
    "matplotlib.pyplot.scatter(y_train, y_train_prediction)"
   ]
  },
  {
   "cell_type": "code",
   "execution_count": null,
   "metadata": {},
   "outputs": [],
   "source": []
  }
 ]
}